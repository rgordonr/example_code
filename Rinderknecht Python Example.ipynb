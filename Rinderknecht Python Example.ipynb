{
 "cells": [
  {
   "cell_type": "markdown",
   "metadata": {},
   "source": [
    "# Notes to ICPSR search committee\n",
    "\n",
    "This code is part of a project that seeks to identify the predictors of attractiveness in online dating. I scraped data from over a quarter million user profiles to support this project. This .ipynb file is part of the process I went through to transform my scraped data into a form that I could conduct analyses on.\n",
    "\n",
    "This code is one stage of a multi-stage process transforming approximately 50 GBs of HTML code (spread across over a quarter million txt files) into a useable dataset. The previous stage (which produced \"Ok_Data_first_stage.csv\") transformed the data into a tabular format. This stage further processes the resulting textual data by:\n",
    "\n",
    "1. Cleaning users' self-response essays (e.g., self-descriptions, overview of their interests), specifically by removing most remaining html and removing textual representations of emoticons.\n",
    "2. Using cleaned essays to identify users who appear to have not put much effort into their profiles.\n",
    "3. Cleaning personality data that I found embedded in the html of users' pages. The dating website uses these data to create graphics indicating qualities of the users, such as extroversion and political beliefs.\n",
    "4. Cleaning self-descriptions (e.g., descriptions of sexual identity, age, height, educational attainment).\n",
    "5. Writing these changes to a new CSV file (Ok_Data_second_stage.csv)\n",
    "\n",
    "I selected this code because it highlights my experience working with text data and should be interpretable on its own. Other python code associated with this cleaning process, or code highlighting other skills (e.g., API development, MTurk study automation, more complex uses of the pandas library) are available upon request."
   ]
  },
  {
   "cell_type": "code",
   "execution_count": 31,
   "metadata": {
    "collapsed": false
   },
   "outputs": [],
   "source": [
    "import re\n",
    "from bs4 import BeautifulSoup\n",
    "import pandas as pd\n",
    "from pandas import Series, DataFrame\n",
    "from ast import literal_eval\n",
    "import ast\n",
    "import json\n",
    "import numpy as np\n",
    "\n",
    "import pandas.types as ptypes"
   ]
  },
  {
   "cell_type": "code",
   "execution_count": 32,
   "metadata": {
    "collapsed": false
   },
   "outputs": [],
   "source": [
    "df = pd.read_csv(\"Ok_Data_first_stage.csv\",encoding = \"cp1252\" ,low_memory=False)"
   ]
  },
  {
   "cell_type": "markdown",
   "metadata": {},
   "source": [
    "## Drop Unwanted Columns"
   ]
  },
  {
   "cell_type": "code",
   "execution_count": 33,
   "metadata": {
    "collapsed": false
   },
   "outputs": [
    {
     "data": {
      "text/plain": [
       "'\\nage and city variables are derived from profiles (rather than initial search for users at different levels of attractiveness). \\nI do not redo age and location variables. I have no reasons to believe they could be done incorrectly\\n'"
      ]
     },
     "execution_count": 33,
     "metadata": {},
     "output_type": "execute_result"
    }
   ],
   "source": [
    "df = df.drop('Unnamed: 0', 1)\n",
    "df = df.drop('Unnamed: 0_x', 1)\n",
    "df = df.drop('Unnamed: 0_y', 1)\n",
    "\n",
    "\"\"\"\n",
    "I grabbed several important variables while merging all data. However, I have reason to believe these data\n",
    "are not completely accurate. Because of this, I drop these variables and redo the text processing necessary to \n",
    "create these variables.\n",
    "\"\"\"\n",
    "\n",
    "df = df.drop('Asian', 1)\n",
    "df = df.drop('Black', 1)\n",
    "df = df.drop('Hispanic', 1)\n",
    "df = df.drop('Hookup', 1)\n",
    "df = df.drop('Indian', 1)\n",
    "df = df.drop('Long-term', 1)\n",
    "df = df.drop('Middle Eastern', 1)\n",
    "df = df.drop('Multi-ethnic', 1)\n",
    "df = df.drop('Native American', 1)\n",
    "df = df.drop('New friends', 1)\n",
    "df = df.drop('Other', 1)\n",
    "df = df.drop('Pacific Islander', 1)\n",
    "df = df.drop('Short-term', 1)\n",
    "df = df.drop('White', 1)\n",
    "df = df.drop('build', 1)\n",
    "df = df.drop('educ', 1)\n",
    "df = df.drop('gender', 1)\n",
    "df = df.drop('height', 1)\n",
    "df = df.drop('sex', 1)\n",
    "df = df.drop('status', 1)\n",
    "\n",
    "\"\"\"\n",
    "age and city variables are derived from profiles (rather than initial search for users at different levels of attractiveness). \n",
    "I do not redo age and location variables. I have no reasons to believe they could be done incorrectly\n",
    "\"\"\""
   ]
  },
  {
   "cell_type": "code",
   "execution_count": 34,
   "metadata": {
    "collapsed": false
   },
   "outputs": [
    {
     "data": {
      "text/plain": [
       "Index(['city', 'state', 'date of search', 'attractiveness', 'user's gender',\n",
       "       'location of search', 'About me',\n",
       "       'Favorite books, movies, shows, music, and food',\n",
       "       'I spend a lot of time thinking about', 'I’m really good at',\n",
       "       'My self-summary', 'On a typical Friday night I am',\n",
       "       'Six things I could never do without',\n",
       "       'The first things people usually notice about me',\n",
       "       'The most private thing I’m willing to admit',\n",
       "       'What I’m doing with my life', 'You should message me if', 'age',\n",
       "       'location', 'looking_for_section', 'personality1', 'personality2',\n",
       "       'user_info_1', 'user_info_2', 'user_info_3', 'seeking_both',\n",
       "       'seeking_men', 'seeking_women', 'to_drop'],\n",
       "      dtype='object')"
      ]
     },
     "execution_count": 34,
     "metadata": {},
     "output_type": "execute_result"
    }
   ],
   "source": [
    "df.columns"
   ]
  },
  {
   "cell_type": "markdown",
   "metadata": {},
   "source": [
    "## Clean Essays\n",
    "\n",
    "- create two essay copies. The first completes basic html removal, while the second removes emoticons\n",
    "- currently retains links, but one version removed emoticons"
   ]
  },
  {
   "cell_type": "code",
   "execution_count": 35,
   "metadata": {
    "collapsed": false
   },
   "outputs": [],
   "source": [
    "\n",
    "\n",
    "def essay_cleaner(c, essay):\n",
    "    x = c[essay]\n",
    "    if type(x) == str:\n",
    "        \n",
    "        x = x.replace(\"<br/>\",\" \")\n",
    "        x = x.replace('</div>',\"\")\n",
    "        x = x.replace(\"\\'\",\"'\")\n",
    "        x = x.replace(\"&amp;\",\"&\")\n",
    "        x = x[40:]\n",
    "        \n",
    "        return x\n",
    "    else:\n",
    "        return None\n",
    "\n",
    "    \n",
    "\n",
    "def essay_cleaner_no_emo(c, essay):\n",
    "    x = c[essay]\n",
    "    if type(x) == str:\n",
    "\n",
    "        t = re.sub(r'\\<img alt=(.*?)\\/>', 'EMOTICON', x)\n",
    "        t = re.sub(r'\\\\img alt=(.*?)\\/>', 'EMOTICON', t)\n",
    "        \n",
    "        #t = re.sub(r'\\<a href=(.*?)\\/a>', 'LINK', t)\n",
    "        #t = re.sub(r'\\a href=(.*?)\\/a>', 'LINK', t)\n",
    "        return t\n",
    "    else:\n",
    "        return None\n",
    "\n",
    "    \n",
    "\n",
    "essay_list = ['Favorite books, movies, shows, music, and food',\n",
    "'I spend a lot of time thinking about',\n",
    "'I’m really good at',\n",
    "'My self-summary',\n",
    "'On a typical Friday night I am',\n",
    "'Six things I could never do without',\n",
    "'The first things people usually notice about me',\n",
    "'The most private thing I’m willing to admit',\n",
    "'What I’m doing with my life',\n",
    "'You should message me if',\n",
    "'About me']\n",
    "\n",
    "for i in essay_list:\n",
    "    df[i] = df.apply(essay_cleaner,essay = i, axis=1)\n",
    "    df[i + \"_no_emoticons\"] = df.apply(essay_cleaner_no_emo,essay = i, axis=1)\n"
   ]
  },
  {
   "cell_type": "markdown",
   "metadata": {},
   "source": [
    "## Evaluate Missing Data for Essays, create poor-quality profile variable\n",
    "\n",
    "- provide a word cound accross all essays. When the word count == 0, that means the user did not write anything about themselves"
   ]
  },
  {
   "cell_type": "code",
   "execution_count": 45,
   "metadata": {
    "collapsed": false
   },
   "outputs": [
    {
     "name": "stdout",
     "output_type": "stream",
     "text": [
      "Do we have data for the essay column?\n",
      " \n",
      "Proportion of users who provided data:  0.7094222315890889\n",
      "True     188502\n",
      "False     77210\n",
      "Name: Favorite books, movies, shows, music, and food, dtype: int64\n",
      " \n",
      "Proportion of users who provided data:  0.663127747335461\n",
      "True     176201\n",
      "False     89511\n",
      "Name: I spend a lot of time thinking about, dtype: int64\n",
      " \n",
      "Proportion of users who provided data:  0.7256202203889925\n",
      "True     192806\n",
      "False     72906\n",
      "Name: I’m really good at, dtype: int64\n",
      " \n",
      "Proportion of users who provided data:  0.9303531643282953\n",
      "True     247206\n",
      "False     18506\n",
      "Name: My self-summary, dtype: int64\n",
      " \n",
      "Proportion of users who provided data:  0.6734697717829831\n",
      "True     178949\n",
      "False     86763\n",
      "Name: On a typical Friday night I am, dtype: int64\n",
      " \n",
      "Proportion of users who provided data:  0.6799768170048774\n",
      "True     180678\n",
      "False     85034\n",
      "Name: Six things I could never do without, dtype: int64\n",
      " \n",
      "Proportion of users who provided data:  0.23962786776660444\n",
      "False    202040\n",
      "True      63672\n",
      "Name: The first things people usually notice about me, dtype: int64\n",
      " \n",
      "Proportion of users who provided data:  0.1892575420003613\n",
      "False    215424\n",
      "True      50288\n",
      "Name: The most private thing I’m willing to admit, dtype: int64\n",
      " \n",
      "Proportion of users who provided data:  0.7935396218462094\n",
      "True     210853\n",
      "False     54859\n",
      "Name: What I’m doing with my life, dtype: int64\n",
      " \n",
      "Proportion of users who provided data:  0.7002167760582887\n",
      "True     186056\n",
      "False     79656\n",
      "Name: You should message me if, dtype: int64\n",
      " \n",
      "Proportion of users who provided data:  0.009547931595110496\n",
      "False    263175\n",
      "True       2537\n",
      "Name: About me, dtype: int64\n",
      " \n"
     ]
    }
   ],
   "source": [
    "print(\"Do we have data for the essay column?\")\n",
    "print(\" \")\n",
    "\n",
    "for essay in essay_list:\n",
    "    print(\"Proportion of users who provided data: \" , len(df[df[essay].notnull() == True])/len(df))\n",
    "          \n",
    "    print(df[essay].notnull().value_counts())\n",
    "    print(\" \")"
   ]
  },
  {
   "cell_type": "code",
   "execution_count": 46,
   "metadata": {
    "collapsed": false
   },
   "outputs": [],
   "source": [
    "# create a word count of total number of words typed in profile (accross all essays)\n",
    "\n",
    "def profile_word_counter(p):\n",
    "    counter = 0\n",
    "    for essay in essay_list: \n",
    "        if p[essay] != None:\n",
    "            \n",
    "            essay = essay + \"_no_emoticons\" #do word count on no-emoticon version\n",
    "            counter += len(p[essay].split())\n",
    "    return counter\n",
    "\n",
    "df['total_word_count'] = df.apply(profile_word_counter, axis=1)"
   ]
  },
  {
   "cell_type": "markdown",
   "metadata": {},
   "source": [
    "## Clean Personality Data\n",
    "\n",
    "- get conservatism measure"
   ]
  },
  {
   "cell_type": "code",
   "execution_count": 47,
   "metadata": {
    "collapsed": false
   },
   "outputs": [],
   "source": [
    "\"\"\"\n",
    "This starts cleaning the messy personality data by removing all non-personality data\n",
    "\"\"\"\n",
    "\n",
    "def personality_cleaner(c):\n",
    "    \n",
    "    return re.findall(r'\\[(.*?)\\]',c['personality1'])\n",
    "\n",
    "df['personality1_clean'] = df.apply(personality_cleaner, axis=1)"
   ]
  },
  {
   "cell_type": "code",
   "execution_count": 48,
   "metadata": {
    "collapsed": false
   },
   "outputs": [],
   "source": [
    "\"\"\"\n",
    "Using the somewhat cleaned variable, search through it to find the conservative score\n",
    "\"\"\"\n",
    "def personality_cleaner2(c):\n",
    "    x = list(c['personality1_clean'])[0]\n",
    "    y = re.findall(r'\\{(.*?)\\}',x)\n",
    "\n",
    "    for i in y:\n",
    "    \n",
    "        i = '{'+i\n",
    "        i = i+'}'\n",
    "        i = json.loads(i)\n",
    "        \n",
    "        if i['name'] == \"Conservative\":\n",
    "            return i['percentile']\n",
    "\n",
    "df['conservative']= df.apply(personality_cleaner2, axis=1)"
   ]
  },
  {
   "cell_type": "code",
   "execution_count": 49,
   "metadata": {
    "collapsed": false
   },
   "outputs": [
    {
     "data": {
      "text/plain": [
       "True     172511\n",
       "False     93201\n",
       "Name: conservative, dtype: int64"
      ]
     },
     "execution_count": 49,
     "metadata": {},
     "output_type": "execute_result"
    }
   ],
   "source": [
    "# How many users have a conservatism score?\n",
    "df['conservative'].isnull().value_counts()"
   ]
  },
  {
   "cell_type": "markdown",
   "metadata": {},
   "source": [
    "## Straight, Gay, Bi user categories, based on how they appeared in search\n",
    "\n",
    "search_based_sexuality ignores how users self-identify in their profile. Rather, it determines their sexuality by how they appeared in my initial search for users. For example, a man who appeared while searching for users seeking women but not for users seeking men would be identified as straight. A women who self identifies as bisexual but only appeared in my search for users seeking men would also be identified in this variable as straight."
   ]
  },
  {
   "cell_type": "code",
   "execution_count": 50,
   "metadata": {
    "collapsed": false
   },
   "outputs": [],
   "source": [
    "def set_sexuality(c):\n",
    "    \n",
    "    g = c[\"user's gender\"]\n",
    "    \n",
    "    #seeking:\n",
    "    men = c[\"seeking_men\"]\n",
    "    women = c[\"seeking_women\"]\n",
    "    both = c[\"seeking_both\"]\n",
    "    \n",
    "    if g == \"women\":\n",
    "        if men == 1 and women == 0:\n",
    "            return \"straight\"\n",
    "        if men == 0 and women == 1:\n",
    "            return \"gay\"\n",
    "        if men == 1 and women == 1:\n",
    "            return \"bisexual\"\n",
    "    if g == \"men\":\n",
    "        if men == 0 and women == 1:\n",
    "            return \"straight\"\n",
    "        if men == 1 and women == 0:\n",
    "            return \"gay\"\n",
    "        if men == 1 and women == 1:\n",
    "            return \"bisexual\"\n",
    "        \n",
    "df[\"search_based_sexuality\"] = df.apply(set_sexuality, axis=1)"
   ]
  },
  {
   "cell_type": "code",
   "execution_count": 51,
   "metadata": {
    "collapsed": false
   },
   "outputs": [],
   "source": [
    "mendf = df[df[\"user's gender\"]==\"men\"]\n",
    "womendf = df[df[\"user's gender\"]==\"women\"]\n"
   ]
  },
  {
   "cell_type": "code",
   "execution_count": 52,
   "metadata": {
    "collapsed": false
   },
   "outputs": [
    {
     "data": {
      "text/plain": [
       "straight    141333\n",
       "gay          22464\n",
       "bisexual      4986\n",
       "Name: search_based_sexuality, dtype: int64"
      ]
     },
     "execution_count": 52,
     "metadata": {},
     "output_type": "execute_result"
    }
   ],
   "source": [
    "mendf[\"search_based_sexuality\"].value_counts()"
   ]
  },
  {
   "cell_type": "code",
   "execution_count": 53,
   "metadata": {
    "collapsed": false
   },
   "outputs": [
    {
     "data": {
      "text/plain": [
       "straight    73778\n",
       "bisexual    14167\n",
       "gay          8984\n",
       "Name: search_based_sexuality, dtype: int64"
      ]
     },
     "execution_count": 53,
     "metadata": {},
     "output_type": "execute_result"
    }
   ],
   "source": [
    "womendf[\"search_based_sexuality\"].value_counts()"
   ]
  },
  {
   "cell_type": "markdown",
   "metadata": {},
   "source": [
    "## Clean User Info Section 1\n",
    "\n",
    "The User Info data currently looks something like this for each user:\n",
    "- \"Straight, Man, Single, 6’ 0”, Average build\"\n",
    "\n",
    "This section parses out the following data from each user's info section\n",
    "\n",
    "- gender\n",
    "- sex\n",
    "- availability\n",
    "- height\n",
    "- body type"
   ]
  },
  {
   "cell_type": "code",
   "execution_count": 54,
   "metadata": {
    "collapsed": false
   },
   "outputs": [],
   "source": [
    "gender = ['man', 'woman', 'agender', 'androgynous', 'bigender', 'cis man',\n",
    "              'cis woman', 'genderfluid', 'genderqueer', 'gender nonconforming',\n",
    "              'hijra', 'intersex', 'non-binary', 'other', 'pangender', 'transfeminine',\n",
    "              'transgender', 'transmasculine', 'transsexual', 'trans man', 'trans woman',\n",
    "              'two spirit']\n",
    "\n",
    "sexuality = ['straight', 'gay', 'bisexual', 'asexual', 'demisexual',\n",
    "                 'heteroflexible', 'homoflexible', 'lesbian', 'pansexual',\n",
    "                 'queer', 'questioning', 'sapiosexual']\n",
    "\n",
    "status = ['single','seeing someone','married','open relationship','available']\n",
    "\n",
    "build = ['rather not say', 'thin', 'overweight', 'average build',\n",
    "                 'fit', 'jacked', '\"a little extra\" build', 'curvy', 'full figured',\n",
    "                 'used up']\n",
    "\n",
    "def get_user_info_1(c):\n",
    "    \n",
    "    \"\"\"\n",
    "    Users can report multiple responses (up to 5) for their sex and gender. I collect these responses into a list, sort \n",
    "    the list by alphabetical order, then transform the list into a string before writing to the sex and gender variable.\n",
    "    \n",
    "    The sex_m/gender_m categorizes users with multiple responses as \"multiple\"\n",
    "    \"\"\"\n",
    "    \n",
    "    sex_list = []\n",
    "    sex_var = \"\"\n",
    "    sex_multi = \"\"\n",
    "    gender_list = []\n",
    "    gender_var = \"\"\n",
    "    gender_multi = \"\"\n",
    "    \n",
    "    build_var = \"\"\n",
    "    relationship_status_var = \"\"\n",
    "    height = \"\"\n",
    "    \n",
    "    x = c['user_info_1'].split(\",\")\n",
    "    \n",
    "    for i in x:\n",
    "        i = i.strip()\n",
    "        i = i.lower()\n",
    "        \n",
    "        if i in sexuality:\n",
    "            sex_list.append(i)\n",
    "        elif i in gender:\n",
    "            gender_list.append(i)\n",
    "        elif i in build:\n",
    "            build_var = i\n",
    "        elif i in status:\n",
    "            relationship_status_var = i\n",
    "        else:\n",
    "            try:\n",
    "                i = (int(i[0]) * 12) + int(i[3:-1])\n",
    "                height = i\n",
    "            except: \n",
    "                print(i)\n",
    "    \n",
    "    sex_list.sort() \n",
    "    sex_var = \", \".join(sex_list)\n",
    "    \n",
    "    if len(sex_list) > 1:\n",
    "        sex_multi = \"multiple\"\n",
    "    else:\n",
    "        sex_multi = sex_var\n",
    "        \n",
    "    \n",
    "    gender_list.sort()\n",
    "    gender_var = \", \".join(gender_list)\n",
    "    \n",
    "    if len(gender_list) > 1:\n",
    "        gender_multi = \"multiple\"\n",
    "    else:\n",
    "        gender_multi = gender_var\n",
    "    \n",
    "    list_to_return = Series([sex_var,sex_multi,gender_var,gender_multi,build_var,relationship_status_var,height])\n",
    "    \n",
    "    return list_to_return\n",
    "    \n",
    "#create user info section 1 variables in DataFrame   \n",
    "df[['sex','sex_m','gender','gender_m','body_type','relationship_status',\n",
    "    'height']] = df.apply(get_user_info_1, axis=1)  \n",
    "    "
   ]
  },
  {
   "cell_type": "markdown",
   "metadata": {},
   "source": [
    "## Clean User Info Section 2\n",
    "\n",
    "The User Info data currently looks something like this for each user:\n",
    "- \"Hispanic / Latin, Speaks English and Spanish, Working on High school, Christian\"\n",
    "\n",
    "This section parses out the following data from each user's info section\n",
    "\n",
    "- race\n",
    "- educ\n",
    "- religion\n",
    "- importance of religion"
   ]
  },
  {
   "cell_type": "code",
   "execution_count": 55,
   "metadata": {
    "collapsed": false
   },
   "outputs": [],
   "source": [
    "education = ['working on high school', 'working on two-year college', 'working on university',\n",
    "                 'working on space camp', 'working on post grad',\n",
    "                 'attended high school', 'attended two-year college', 'attended university', 'attended space camp',\n",
    "                 'attended post grad',\n",
    "                 'dropped out of high school', 'dropped out of two-year college', 'dropped out of university',\n",
    "                 'dropped out of space camp', 'dropped out of post grad']\n",
    "\n",
    "religion = ['agnostic','atheist','christian','jewish','catholic','muslim','hindu',\n",
    "           'buddhist','sikh','other']\n",
    "\n",
    "religion_importance = [\"it’s important\", \"it’s not important\", 'laughing about it','very serious about it']\n",
    "\n",
    "\n",
    "def get_user_info_2(c):\n",
    "    \n",
    "    educ_var = \"\"\n",
    "    religion_var = \"\"\n",
    "    religion_importance_var = \"\"\n",
    "    \n",
    "    asian = False\n",
    "    black = False\n",
    "    hispanic = False\n",
    "    middle_eastern = False\n",
    "    native_american = False\n",
    "    indian = False\n",
    "    pacific_islander = False\n",
    "    white = False\n",
    "    other = False\n",
    "    multi_ethnic = False\n",
    "    \n",
    "    x = c['user_info_2'].replace(')', '')\n",
    "    x = x.replace('but', ',')\n",
    "    x = x.replace('and', ',')\n",
    "    x = re.split(r'[,(]',x)\n",
    "    \n",
    "    for i in x:\n",
    "        i = i.strip()\n",
    "        i = i.lower()\n",
    "        \n",
    "        if i in education:\n",
    "            educ_var = i\n",
    "        elif i in religion:\n",
    "            religion_var = i\n",
    "        elif i in religion_importance:\n",
    "            religion_importance_var = i\n",
    "        \n",
    "        elif 'asian' in i:\n",
    "            asian = True\n",
    "        elif 'black' in i:\n",
    "            black = True\n",
    "        elif 'hispanic' in i:\n",
    "            hispanic = True\n",
    "        elif 'indian' in i:\n",
    "            indian = True\n",
    "        elif 'middle eastern' in i:\n",
    "            middle_eastern = True\n",
    "        elif 'native american' in i:\n",
    "            native_american = True\n",
    "        elif 'pacific isl' in i: # I stripped all \"and\"s out\n",
    "            pacific_islander = True\n",
    "        elif 'white' in i:\n",
    "            white = True\n",
    "        elif ('other' in i) and ('religion' not in i): #needed to make sure user didn't select \"other religion\"\n",
    "            other = True\n",
    "        elif 'multi-ethnic' in i:\n",
    "            multi_ethnic = True    \n",
    "    \n",
    "    list_to_return = Series([educ_var, religion_var, religion_importance_var,\n",
    "                             asian, black, hispanic, middle_eastern, native_american,\n",
    "                            indian, pacific_islander, white, other, multi_ethnic])\n",
    "    \n",
    "    return list_to_return\n",
    "\n",
    "df[['educ','religion','religion_importance','asian','black','hispanic','middle_eastern',\n",
    "  'native_american','indian','pacific_islander','white','other','multi_ethnic']] = df.apply(get_user_info_2, axis=1)  "
   ]
  },
  {
   "cell_type": "markdown",
   "metadata": {},
   "source": [
    "## Clean User Info Section 3\n",
    "\n",
    "The User Info data currently looks something like this for each user:\n",
    "- Never smokes, Doesn’t drink, Doesn’t do drugs, Omnivore, Doesn’t have kids, Sagittarius\n",
    "\n",
    "This section parses out the following data from each user's info section\n",
    "\n",
    "- kids"
   ]
  },
  {
   "cell_type": "code",
   "execution_count": 56,
   "metadata": {
    "collapsed": false
   },
   "outputs": [],
   "source": [
    "kids = [\"doesn’t have kids\",               \n",
    "\"doesn’t have kids but might want them\",       \n",
    "\"doesn’t have kids but wants them\",            \n",
    "\"doesn’t have kids and doesn’t want them\",     \n",
    "\"might want kids\",                             \n",
    "\"wants kids\",                                  \n",
    "\"doesn’t want kids\",\n",
    "\"has kid(s)\",\n",
    "\"has kid(s) and might want more\",\n",
    "\"has kid(s) and doesn’t want more\",\n",
    "\"has kid(s) and wants more\"]\n",
    "\n",
    "def get_user_info_3(c):\n",
    "    \n",
    "    \n",
    "    if (type(c['user_info_3']) != str):\n",
    "        return None\n",
    "    \n",
    "    x = c['user_info_3'].split(\",\")\n",
    "    \n",
    "    for i in x:\n",
    "        i = i.strip()\n",
    "        i = i.lower()\n",
    "        \n",
    "        if i in kids:\n",
    "            return i\n",
    "    \n",
    "\n",
    "df['kids_categories'] = df.apply(get_user_info_3, axis=1)  "
   ]
  },
  {
   "cell_type": "code",
   "execution_count": 57,
   "metadata": {
    "collapsed": false
   },
   "outputs": [
    {
     "data": {
      "text/plain": [
       "doesn’t have kids                          66032\n",
       "doesn’t have kids but might want them      33830\n",
       "doesn’t have kids but wants them           32209\n",
       "doesn’t have kids and doesn’t want them    11519\n",
       "might want kids                             4747\n",
       "has kid(s)                                  4505\n",
       "has kid(s) and might want more              2715\n",
       "wants kids                                  2320\n",
       "has kid(s) and doesn’t want more            1765\n",
       "doesn’t want kids                           1270\n",
       "has kid(s) and wants more                    982\n",
       "Name: kids_categories, dtype: int64"
      ]
     },
     "execution_count": 57,
     "metadata": {},
     "output_type": "execute_result"
    }
   ],
   "source": [
    "df['kids_categories'].value_counts()"
   ]
  },
  {
   "cell_type": "markdown",
   "metadata": {},
   "source": [
    "## Clean Looking For Section\n",
    "\n",
    "The Looking For data currently looks something like this for each user:\n",
    "- \"single Women, near me, ages 18?20, for short & long term dating, Casual sex, and New friends.\"\n",
    "\n",
    "This section parses out the following data from each user's seeking section:\n",
    "\n",
    "- looking for men\n",
    "- looking for women\n",
    "- looking for single people\n",
    "- looking for single or non-single people\n",
    "- lower age limit\n",
    "- upper age limit\n",
    "- seeking a long-term relationship\n",
    "- seeking a short-term relationship\n",
    "- seeking a casual relationship\n",
    "- seeking a friendship\n",
    "- seeking a non-monogamous relationship\n",
    "\n",
    "\n"
   ]
  },
  {
   "cell_type": "code",
   "execution_count": 58,
   "metadata": {
    "collapsed": false
   },
   "outputs": [],
   "source": [
    "men = [\n",
    "'single men',\n",
    "'men',\n",
    "'single people',\n",
    "'people']\n",
    "\n",
    "women = ['single women',\n",
    "'women',\n",
    "'single people',\n",
    "'people'\n",
    "]\n",
    "\n",
    "single = ['single women',\n",
    "'single men',\n",
    "'single people']\n",
    "\n",
    "non_single = [\n",
    "'women',\n",
    "'people',\n",
    "'men']\n",
    "\n",
    "\"\"\"\n",
    "To find all possible combinations of long, short, hookup, and friend, I manually examined all responses that contained a \n",
    "relevant keyword (e.g., long, short, friend, hookup, casual) but weren't contained in my lists corresponding to these \n",
    "variables. I then added them to the appropriate list until I captured all possible combinations.\n",
    "\"\"\"\n",
    "\n",
    "long_type = [\"long-term dating\",\"short & long term dating\",\"for short & long term dating and new friends.\",\n",
    "            \"for short & long term dating and casual sex.\",\"for non-monogamous short & long term dating and casual sex.\",\n",
    "            \"for long-term dating and casual sex.\",\"for non-monogamous long-term dating and casual sex.\",\n",
    "            \"for non-monogamous short & long term dating\",\"for short & long term dating.\",\n",
    "             \"for long-term dating and new friends.\",\"for short & long term dating\",\"for long-term dating\",\n",
    "            \"for non-monogamous short & long term dating and new friends.\",\"for long-term dating.\",\n",
    "            \"for non-monogamous short & long term dating.\",\"for non-monogamous long-term dating and new friends.\",\n",
    "            \"for non-monogamous long-term dating.\",\"for non-monogamous long-term dating\"]\n",
    "\n",
    "short_type = [\"short-term dating\",\"short & long term dating\",\"for short & long term dating and new friends.\",\n",
    "              \"for short-term dating and casual sex.\",\"for short & long term dating and casual sex.\",\n",
    "              \"for non-monogamous short & long term dating and casual sex.\",\n",
    "              \"for non-monogamous short-term dating and casual sex.\",\"for short-term dating\",\"for short & long term dating\",\n",
    "             \"for non-monogamous short & long term dating\",\"for short-term dating and new friends.\",\n",
    "             \"for short & long term dating.\",\"for non-monogamous short-term dating\",\n",
    "              \"for non-monogamous short & long term dating and new friends.\",\"for short & long term dating.\",\n",
    "             \"for short-term dating.\",\"for non-monogamous short-term dating and new friends.\",\n",
    "             \"for non-monogamous short & long term dating.\",\"for non-monogamous short-term dating.\"]\n",
    "\n",
    "hookup = [\"hookup\",\"casual\",\"casual sex\",\"for casual sex and new friends.\",\"for short & long term dating and casual sex.\",\n",
    "         \"for non-monogamous casual sex and new friends.\",\"for non-monogamous short & long term dating and casual sex.\",\n",
    "         \"for casual sex.\",\"for non-monogamous short-term dating and casual sex.\",\"for short-term dating and casual sex.\",\n",
    "         \"for long-term dating and casual sex.\",\"for non-monogamous casual sex.\",\"for non-monogamous long-term dating and casual sex.\"]\n",
    "\n",
    "friend = [\"new friends\",\"and new friends\",\"for casual sex and new friends\",\"for short & long term dating and new friends.\",\n",
    "         \"for non-monogamous casual sex and new friends.\",\"and new friends.\",\"for casual sex and new friends.\",\n",
    "         \"for long-term dating and new friends.\",\"for short-term dating and new friends.\",\"for new friends.\",\n",
    "         \"for non-monogamous short & long term dating and new friends.\",\"for non-monogamous short-term dating and new friends.\",\n",
    "         \"for non-monogamous new friends.\",\"for non-monogamous long-term dating and new friends.\"]\n",
    "\n",
    "\n",
    "\n",
    "def looking_for(c):\n",
    "    \n",
    "    \n",
    "    men_var = False\n",
    "    women_var = False\n",
    "    single_var = False\n",
    "    non_single_var = False\n",
    "    \n",
    "    age_lower_var = 0\n",
    "    age_upper_var = 0\n",
    "    \n",
    "    hookup_var = False\n",
    "    short_var = False\n",
    "    long_var = False\n",
    "    friend_var = False\n",
    "    \n",
    "    non_monogamous_var = False\n",
    "\n",
    "    x = c['looking_for_section'].split(\",\")\n",
    "    \n",
    "    counter = 0\n",
    "    for i in x:\n",
    "        i = i.strip()\n",
    "        i = i.lower()\n",
    "        \n",
    "        #gender\n",
    "        if i in men:\n",
    "            men_var = True\n",
    "        if i in women:\n",
    "            women_var = True\n",
    "        \n",
    "        #monogomy\n",
    "        if i in single:\n",
    "            single_var = True\n",
    "        elif i in non_single:\n",
    "            non_single_var = True\n",
    "        \n",
    "        #age limit\n",
    "        if \"ages\" in i:\n",
    "            \n",
    "            ages = i[5:]\n",
    "            ages = ages.split(\"?\")\n",
    "            \n",
    "            age_lower_var = ages[0]\n",
    "            age_upper_var = ages[1]\n",
    "            \n",
    "        elif \"age\" in i:\n",
    "            \n",
    "            ages = i[4:]\n",
    "            age_lower_var = ages\n",
    "            age_upper_var = ages\n",
    "            \n",
    "        #relationship type seeking\n",
    "        if i in long_type:\n",
    "            long_var = True\n",
    "        if i in short_type:\n",
    "            short_var = True\n",
    "        if i in hookup:\n",
    "            hookup_var = True\n",
    "        if i in friend:\n",
    "            friend_var = True\n",
    "            \n",
    "        if \"non-monogamous\" in i:\n",
    "            non_monogamous_var = True\n",
    "        \n",
    "        \"\"\"\n",
    "        if \"long\" in i and long_var == False:\n",
    "            print(i)\n",
    "        \"\"\"    \n",
    "    \n",
    "    list_to_return = Series([men_var,women_var,single_var,non_single_var,age_lower_var,age_upper_var,hookup_var,\n",
    "                            short_var,long_var,friend_var,non_monogamous_var])\n",
    "    \n",
    "    return list_to_return\n",
    "    \n",
    "\n",
    "df[[\"seeking_men_profile\",\"seeking_women_profile\",\"seeking_only_singles\",\"seeking_singles_and_non\",\n",
    "   \"age_lower_limit\",\"age_upper_limit\",\"hookup\",\"short_term\",\"long_term\",\"friendship\",\n",
    "   \"seeking_non_monogomous_relationship\"]] = df.apply(looking_for, axis=1)  "
   ]
  },
  {
   "cell_type": "markdown",
   "metadata": {},
   "source": [
    "## Remove Unneeded Data"
   ]
  },
  {
   "cell_type": "code",
   "execution_count": 59,
   "metadata": {
    "collapsed": true
   },
   "outputs": [],
   "source": [
    "essay_list = ['Favorite books, movies, shows, music, and food',\n",
    "'I spend a lot of time thinking about',\n",
    "'I’m really good at',\n",
    "'My self-summary',\n",
    "'On a typical Friday night I am',\n",
    "'Six things I could never do without',\n",
    "'The first things people usually notice about me',\n",
    "'The most private thing I’m willing to admit',\n",
    "'What I’m doing with my life',\n",
    "'You should message me if',\n",
    "'About me']\n",
    "\n",
    "for essay in essay_list:\n",
    "    df=df.drop(essay, 1)"
   ]
  },
  {
   "cell_type": "code",
   "execution_count": 60,
   "metadata": {
    "collapsed": false
   },
   "outputs": [],
   "source": [
    "df=df.drop('personality1', 1)\n",
    "df=df.drop('personality2', 1)\n",
    "df=df.drop('user_info_1', 1)\n",
    "df=df.drop('user_info_2', 1)\n",
    "df=df.drop('user_info_3', 1)\n",
    "df=df.drop('looking_for_section', 1)"
   ]
  },
  {
   "cell_type": "code",
   "execution_count": 61,
   "metadata": {
    "collapsed": true
   },
   "outputs": [],
   "source": [
    "df=df.drop('personality1_clean', 1)"
   ]
  },
  {
   "cell_type": "markdown",
   "metadata": {},
   "source": [
    "## Rename Essay Variables"
   ]
  },
  {
   "cell_type": "code",
   "execution_count": 62,
   "metadata": {
    "collapsed": true
   },
   "outputs": [],
   "source": [
    "df.rename(columns={'Favorite books, movies, shows, music, and food_no_emoticons': 'Essay1', \n",
    "                   'I spend a lot of time thinking about_no_emoticons': 'Essay2',\n",
    "                  'I’m really good at_no_emoticons':'Essay3',\n",
    "                  'My self-summary_no_emoticons':'Essay4',\n",
    "                  'On a typical Friday night I am_no_emoticons': 'Essay5',\n",
    "                  'Six things I could never do without_no_emoticons':'Essay6',\n",
    "                  'The first things people usually notice about me_no_emoticons':'Essay7',\n",
    "                  'The most private thing I’m willing to admit_no_emoticons':'Essay8',\n",
    "                  'What I’m doing with my life_no_emoticons':'Essay9',\n",
    "                  'You should message me if_no_emoticons':'Essay10',\n",
    "                  'About me_no_emoticons':'Essay11'}, inplace=True)"
   ]
  },
  {
   "cell_type": "markdown",
   "metadata": {},
   "source": [
    "## Rename Gender Variable"
   ]
  },
  {
   "cell_type": "code",
   "execution_count": 63,
   "metadata": {
    "collapsed": true
   },
   "outputs": [],
   "source": [
    "df.rename(columns={\"user's gender\":'search_based_gender'}, inplace=True)"
   ]
  },
  {
   "cell_type": "code",
   "execution_count": 64,
   "metadata": {
    "collapsed": false
   },
   "outputs": [],
   "source": [
    "df.to_csv(\"Ok_Data_second_stage.csv\")"
   ]
  },
  {
   "cell_type": "code",
   "execution_count": null,
   "metadata": {
    "collapsed": true
   },
   "outputs": [],
   "source": []
  }
 ],
 "metadata": {
  "anaconda-cloud": {},
  "kernelspec": {
   "display_name": "Python 3",
   "language": "python",
   "name": "python3"
  },
  "language_info": {
   "codemirror_mode": {
    "name": "ipython",
    "version": 3
   },
   "file_extension": ".py",
   "mimetype": "text/x-python",
   "name": "python",
   "nbconvert_exporter": "python",
   "pygments_lexer": "ipython3",
   "version": "3.7.1"
  }
 },
 "nbformat": 4,
 "nbformat_minor": 2
}
